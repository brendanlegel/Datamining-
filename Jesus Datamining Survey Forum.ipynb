{
 "cells": [
  {
   "cell_type": "code",
   "execution_count": 66,
   "metadata": {},
   "outputs": [],
   "source": [
    "#AUTHOR: Brendan Legel\n",
    "#Goal: Scrap Fox News Daily\n",
    "#Purpose: Creation of an LSTM \n",
    "\n"
   ]
  },
  {
   "cell_type": "markdown",
   "metadata": {},
   "source": [
    "# Import"
   ]
  },
  {
   "cell_type": "code",
   "execution_count": 208,
   "metadata": {},
   "outputs": [],
   "source": [
    "import requests\n",
    "from urllib.request import urlopen\n",
    "from bs4 import BeautifulSoup\n",
    "import io"
   ]
  },
  {
   "cell_type": "markdown",
   "metadata": {},
   "source": [
    "# Functions "
   ]
  },
  {
   "cell_type": "code",
   "execution_count": 297,
   "metadata": {},
   "outputs": [],
   "source": [
    "#FUNCTIONS AREA\n",
    "def MakeFile(make, take):\n",
    "    nameIt = make\n",
    "    nameItFull = nameIt+\".txt\"\n",
    "    with io.open(nameItFull,\"w\",encoding=\"utf-8\") as file: \n",
    "        take = str(take)\n",
    "        file.write(take)\n",
    "        file.close()\n",
    "    return(nameItFull)\n",
    "\n",
    "def Reader(fileName):\n",
    "    with io.open(fileName,\"r\",encoding=\"utf-8\") as file: \n",
    "        output = file.read()\n",
    "    return output\n",
    "\n",
    "def MinerStart(site, target):\n",
    "    if \"www.\" in site:\n",
    "        start = (site.index(\"www.\")) + 4\n",
    "    if \".com\" in site:\n",
    "        end = (site.index(\".com\"))\n",
    "    title = site[start:end] + \"home\"\n",
    "    r = requests.get(site, auth=('user','pass'))\n",
    "    out = r.text\n",
    "    print(\"Stage 1: Miner Complete\")\n",
    "    NameItFull = MakeFile(title,out)\n",
    "    print(\"Stage 2: Raw Mineral Repository Complete\")\n",
    "    return NameItFull\n",
    "\n",
    "def StageData(RepositoryText):\n",
    "    PreprocessStage1 = Reader(RepositoryText)\n",
    "    print(\"Staging Complete\")\n",
    "    return PreprocessStage1\n",
    "    \n",
    "def ProcessTargets(Data):\n",
    "    indexQ = []\n",
    "    for i in range(len(a)):\n",
    "        if a[i] == '\"':\n",
    "            indexQ.append(i)\n",
    "    totalQ = int(len(indexQ)/2)\n",
    "    Info = [] \n",
    "    for i in range(totalQ):\n",
    "        start = indexQ.pop(0) +1\n",
    "        end = indexQ.pop(0)\n",
    "        Q = a[start:end]\n",
    "        Info.append(Q)\n",
    "    todaysArticleLinks = []\n",
    "    count = 0 \n",
    "    for i in range(len(Info)):\n",
    "        if \"article story\" in Info[i]:\n",
    "            #print(Info[i+1])\n",
    "            articleLink = Info[i+2]\n",
    "            articleDescription = Info[i + 11]\n",
    "            if \"/v/\" not in articleLink and \"//video\" not in articleLink and \"info\" not in articleLink:\n",
    "                todaysArticleLinks.append(articleLink)\n",
    "    return todaysArticleLinks\n",
    "#END \n",
    "\n",
    "#take in list of sites, Munch all the sites \n",
    "def MinerGo(sites, newslisttotal):\n",
    "    newslist = newslisttotal\n",
    "    count = 0\n",
    "    for each in range(len(sites)):\n",
    "        site = str(sites[each])\n",
    "        count = count + 1 \n",
    "        title = \"newsA\" + str(count)\n",
    "        r = requests.get(site, auth=('user','pass'))\n",
    "        out = r.text\n",
    "        NameItFull = MakeFile(title,out)\n",
    "        newslist.append(NameItFull)\n",
    "    print(\"Files Made\")\n",
    "    return newslist\n",
    "\n",
    "def MassClean(newlist):\n",
    "    for each in range(len(newlist)):\n",
    "        clean = Reader(newlist[i])\n",
    "        \n",
    "def drawp(give):\n",
    "    search = give\n",
    "    try:\n",
    "        end = search.index(\"</p>\") - 3\n",
    "    except ValueError:\n",
    "        end = 15\n",
    "    return end\n",
    "\n",
    "def processMeat(a):\n",
    "    plist = []\n",
    "    beauti = []\n",
    "    for i in range(len(a)):\n",
    "        if a[i:i+3] == \"<p>\":\n",
    "            end = drawp(a[i:i+500])\n",
    "            p = a[(i+3):(i+3+end)]\n",
    "            plist.append(p)\n",
    "    store =  \"\".join(plist)\n",
    "    return store\n",
    "\n",
    "def processAll(newslist):\n",
    "    endGoal = []\n",
    "    for i in range(len(newslist)):\n",
    "        a = Reader(newslist[i])\n",
    "        out = processMeat(a)\n",
    "        endGoal.append(out)\n",
    "    print(\"complete\")\n",
    "    return endGoal\n",
    "\n",
    "def finishProc(end):\n",
    "    for i in range(len(end)):\n",
    "        title = \"news\" + str(i)\n",
    "        MakeFile(title, end[i])\n",
    "    print(\"complete\")"
   ]
  },
  {
   "cell_type": "markdown",
   "metadata": {},
   "source": [
    "# RUN AREA"
   ]
  },
  {
   "cell_type": "markdown",
   "metadata": {},
   "source": [
    "Miner"
   ]
  },
  {
   "cell_type": "code",
   "execution_count": 298,
   "metadata": {},
   "outputs": [
    {
     "name": "stdout",
     "output_type": "stream",
     "text": [
      "Stage 1: Miner Complete\n",
      "Stage 2: Raw Mineral Repository Complete\n"
     ]
    }
   ],
   "source": [
    "#TARGET\n",
    "site = \"http://www.foxnews.com/\"\n",
    "#FIRST PULL & DROP OFF\n",
    "location = MinerStart(site,target)"
   ]
  },
  {
   "cell_type": "markdown",
   "metadata": {},
   "source": [
    "Stager"
   ]
  },
  {
   "cell_type": "code",
   "execution_count": 299,
   "metadata": {
    "scrolled": false
   },
   "outputs": [
    {
     "name": "stdout",
     "output_type": "stream",
     "text": [
      "Staging Complete\n",
      "Files Made\n"
     ]
    }
   ],
   "source": [
    "#Read Repository Text\n",
    "a = StageData(location)\n",
    "#Re-evaluation Stage ( Aiming at what I wanted )\n",
    "#Look through starting page of fox news for todays articles ... find the links \n",
    "mytargetslist = ProcessTargets(a)\n",
    "#I found them -> mytargetslist\n",
    "newslist = []\n",
    "newslist = MinerGo(mytargetslist,newslist)"
   ]
  },
  {
   "cell_type": "code",
   "execution_count": 300,
   "metadata": {},
   "outputs": [
    {
     "name": "stdout",
     "output_type": "stream",
     "text": [
      "complete\n",
      "complete\n"
     ]
    }
   ],
   "source": [
    "end = processAll(newslist)\n",
    "finishProc(end)"
   ]
  }
 ],
 "metadata": {
  "kernelspec": {
   "display_name": "Python 3",
   "language": "python",
   "name": "python3"
  },
  "language_info": {
   "codemirror_mode": {
    "name": "ipython",
    "version": 3
   },
   "file_extension": ".py",
   "mimetype": "text/x-python",
   "name": "python",
   "nbconvert_exporter": "python",
   "pygments_lexer": "ipython3",
   "version": "3.6.4"
  }
 },
 "nbformat": 4,
 "nbformat_minor": 2
}
