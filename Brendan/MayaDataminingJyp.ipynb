{
 "cells": [
  {
   "cell_type": "code",
   "execution_count": 66,
   "metadata": {},
   "outputs": [],
   "source": [
    "#AUTHOR: Maya\n",
    "#Goal: Scrap crafts site\n",
    "#Purpose: My better Creation of an LSTM \n",
    "\n"
   ]
  },
  {
   "cell_type": "markdown",
   "metadata": {},
   "source": [
    "# Import"
   ]
  },
  {
   "cell_type": "code",
   "execution_count": 67,
   "metadata": {},
   "outputs": [],
   "source": [
    "import requests\n",
    "from urllib.request import urlopen\n",
    "from bs4 import BeautifulSoup"
   ]
  },
  {
   "cell_type": "markdown",
   "metadata": {},
   "source": [
    "# Functions "
   ]
  },
  {
   "cell_type": "code",
   "execution_count": 151,
   "metadata": {},
   "outputs": [],
   "source": [
    "#FUNCTIONS AREA\n",
    "def MakeFile(make, take):\n",
    "    nameIt = make\n",
    "    nameItFull = nameIt+\".txt\"\n",
    "    file = open(nameItFull,\"w\") \n",
    "    file.write(take)\n",
    "    file.close()\n",
    "    print(\"file made -> \", nameItFull)\n",
    "    return(nameItFull)\n",
    "\n",
    "def Reader(file):\n",
    "    fileCheck = open(file, \"r\")\n",
    "    output = fileCheck.read()\n",
    "    #print(output)\n",
    "    print(\"read\")\n",
    "    return output\n",
    "\n",
    "def MinerStart(site, target):\n",
    "    if \"www.\" in site:\n",
    "        start = (site.index(\"www.\")) + 4\n",
    "    if \".com\" in site:\n",
    "        end = (site.index(\".com\"))\n",
    "    title = site[start:end] + \"home\"\n",
    "    r = requests.get(site, auth=('user','pass'))\n",
    "    out = r.text\n",
    "    print(\"Stage 1: Miner Complete\")\n",
    "    NameItFull = MakeFile(title,out)\n",
    "    print(\"Stage 2: Raw Mineral Repository Complete\")\n",
    "    return NameItFull\n",
    "\n",
    "def StageData(RepositoryText):\n",
    "    PreprocessStage1 = Reader(RepositoryText)\n",
    "    print(\"Staging Complete\")\n",
    "    return PreprocessStage1\n",
    "    \n",
    "def ProcessTargets(Data):\n",
    "    indexQ = []\n",
    "    for i in range(len(a)):\n",
    "        if a[i] == '\"':\n",
    "            indexQ.append(i)\n",
    "    totalQ = int(len(indexQ)/2)\n",
    "    Info = [] \n",
    "    for i in range(totalQ):\n",
    "        start = indexQ.pop(0) +1\n",
    "        end = indexQ.pop(0)\n",
    "        Q = a[start:end]\n",
    "        Info.append(Q)\n",
    "    todaysArticleLinks = []\n",
    "    count = 0 \n",
    "    for i in range(len(Info)):\n",
    "        if \"article story\" in Info[i]:\n",
    "            #print(Info[i+1])\n",
    "            articleLink = Info[i+2]\n",
    "            articleDescription = Info[i + 11]\n",
    "            if \"/v/\" not in articleLink and \"//video\" not in articleLink and \"info\" not in articleLink:\n",
    "                todaysArticleLinks.append(articleLink)\n",
    "    return todaysArticleLinks\n",
    "#END \n",
    "\n",
    "def MinerGo(site, target):\n",
    "    print(\"will do \")"
   ]
  },
  {
   "cell_type": "markdown",
   "metadata": {},
   "source": [
    "# RUN AREA"
   ]
  },
  {
   "cell_type": "markdown",
   "metadata": {},
   "source": [
    "Miner"
   ]
  },
  {
   "cell_type": "code",
   "execution_count": 153,
   "metadata": {},
   "outputs": [
    {
     "name": "stdout",
     "output_type": "stream",
     "text": [
      "Stage 1: Miner Complete\n",
      "file made ->  foxnewshome.txt\n",
      "Stage 2: Raw Mineral Repository Complete\n"
     ]
    }
   ],
   "source": [
    "#TARGET\n",
    "site = \"http://sewing.patternreview.com\"\n",
    "#FIRST PULL & DROP OFF\n",
    "location = MinerStart(site,target)"
   ]
  },
  {
   "cell_type": "markdown",
   "metadata": {},
   "source": [
    "Stager"
   ]
  },
  {
   "cell_type": "code",
   "execution_count": 154,
   "metadata": {
    "scrolled": false
   },
   "outputs": [
    {
     "name": "stdout",
     "output_type": "stream",
     "text": [
      "read\n",
      "Staging Complete\n"
     ]
    }
   ],
   "source": [
    "#Read Repository Text\n",
    "a = StageData(location)\n",
    "#Re-evaluation Stage ( Aiming at what I wanted )\n"
   ]
  },
  {
   "cell_type": "code",
   "execution_count": 155,
   "metadata": {},
   "outputs": [],
   "source": [
    "#Look through starting page of fox news for todays articles ... find the links \n",
    "mytargetslist = ProcessTargets(a)\n",
    "#I found them -> mytargetslist\n"
   ]
  },
  {
   "cell_type": "code",
   "execution_count": 157,
   "metadata": {},
   "outputs": [
    {
     "name": "stdout",
     "output_type": "stream",
     "text": [
      "http://www.foxnews.com/science/2018/05/13/hawaii-volcano-stokes-fears-west-coast-eruptions.html\n",
      "http://www.foxnews.com/opinion/2018/05/13/trump-triumphs-on-north-korea-stands-strong-on-iran-but-media-attacks-continue.html\n",
      "http://www.foxnews.com/travel/2018/05/11/disruptive-spirit-airlines-passenger-refuses-to-leave-forces-whole-flight-to-deplane.html\n",
      "http://www.foxnews.com/opinion/2018/05/13/what-wish-id-told-mother-lost-too-soon.html\n",
      "http://www.foxnews.com/us/2018/05/13/3-georgia-police-officers-sickened-after-encountering-dead-body-in-motel-room.html\n",
      "http://www.foxnews.com/entertainment/2018/05/13/lisa-vanderpumps-brother-found-dead-suspected-drug-overdose-report-says.html\n",
      "http://www.foxnews.com/politics/2018/05/13/pompeo-signals-trump-seeking-long-term-agreement-with-north-koreas-kim-in-summit.html\n",
      "http://www.foxnews.com/us/2018/05/13/new-york-city-music-teacher-found-dead-in-upstate-new-york-week-after-going-missing.html\n",
      "http://www.foxnews.com/health/2018/05/13/salmonella-outbreak-expands-linked-to-207-million-eggs-recalled.html\n",
      "http://www.foxnews.com/opinion/2018/05/13/minnesota-democrats-wage-war-on-god-faith-and-american-history.html\n",
      "http://insider.foxnews.com/2018/05/12/new-jersey-bill-allows-illegal-immigrants-apply-financial-aid-rutgers-student-reacts\n",
      "http://www.foxnews.com/science/2018/05/13/two-headed-fawn-found-in-minnesota-forest-shows-rare-wildlife-deformity.html\n",
      "http://insider.foxnews.com/2018/05/13/johnny-joey-jones-double-amputee-veteran-turned-away-va-without-treatment\n",
      "http://www.foxnews.com/us/2018/05/13/four-men-drugged-raped-runaway-teen-girl-police-say.html\n",
      "http://insider.foxnews.com/2018/05/12/students-dismiss-trump-nobel-prize-defend-barack-obamas-award\n"
     ]
    }
   ],
   "source": [
    "for i in range(len(mytargetslist)):\n",
    "    print(mytargetslist[i])\n"
   ]
  },
  {
   "cell_type": "code",
   "execution_count": null,
   "metadata": {},
   "outputs": [],
   "source": []
  }
 ],
 "metadata": {
  "kernelspec": {
   "display_name": "Python 3",
   "language": "python",
   "name": "python3"
  },
  "language_info": {
   "codemirror_mode": {
    "name": "ipython",
    "version": 3
   },
   "file_extension": ".py",
   "mimetype": "text/x-python",
   "name": "python",
   "nbconvert_exporter": "python",
   "pygments_lexer": "ipython3",
   "version": "3.6.4"
  }
 },
 "nbformat": 4,
 "nbformat_minor": 2
}
