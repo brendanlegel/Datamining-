{
 "cells": [
  {
   "cell_type": "code",
   "execution_count": 17,
   "metadata": {},
   "outputs": [],
   "source": [
    "def makefile(make, take):\n",
    "    nameIt = str(input(\"name it please\"))\n",
    "    nameItFull = nameIt+\".txt\"\n",
    "    file = open(nameItFull,\"w\") \n",
    "    file.write(take)\n",
    "    print(\"complete\")\n",
    "\n",
    "def reader(file):\n",
    "    fileCheck = open(file, \"r\")\n",
    "    output = fileCheck.read()\n",
    "    return output\n"
   ]
  },
  {
   "cell_type": "code",
   "execution_count": null,
   "metadata": {},
   "outputs": [],
   "source": []
  }
 ],
 "metadata": {
  "kernelspec": {
   "display_name": "Python 3",
   "language": "python",
   "name": "python3"
  },
  "language_info": {
   "codemirror_mode": {
    "name": "ipython",
    "version": 3
   },
   "file_extension": ".py",
   "mimetype": "text/x-python",
   "name": "python",
   "nbconvert_exporter": "python",
   "pygments_lexer": "ipython3",
   "version": "3.6.4"
  }
 },
 "nbformat": 4,
 "nbformat_minor": 2
}
